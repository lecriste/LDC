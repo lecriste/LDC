{
 "cells": [
  {
   "cell_type": "code",
   "execution_count": 1,
   "metadata": {
    "collapsed": false
   },
   "outputs": [],
   "source": [
    "# Load required libraries\n",
    "import pandas as pd\n",
    "from matplotlib import pyplot\n",
    "from sklearn.preprocessing import MinMaxScaler\n",
    "from sklearn.metrics import mean_squared_error\n",
    "from keras.models import Sequential\n",
    "from keras.layers import Dense\n",
    "from keras.layers import LSTM\n",
    "import numpy as np"
   ]
  },
  {
   "cell_type": "code",
   "execution_count": 2,
   "metadata": {
    "collapsed": false
   },
   "outputs": [],
   "source": [
    "# Reading in the dataset which is in .csv format, has column headings and has an index column\n",
    "url = \"https://raw.githubusercontent.com/lecriste/LDC/main/commodities.csv?token=GHSAT0AAAAAABQQRHJDKH6F724MSYM5OSI2YQBCXVA\"\n",
    "data = pd.read_csv(url, header = 0)\n",
    "date_col = 'date'\n",
    "\n",
    "#currency = data['currency'][0]\n",
    "# Drop single-value feature\n",
    "data.drop('currency', axis=1, inplace=True)\n",
    "\n",
    "dataSettle = data[data.observation == 'Settle']\n",
    "dataSettle = dataSettle.drop('observation', axis=1)\n",
    "commodities = dataSettle.groupby(['instrument']).nunique()\n",
    "comm = {commodities.index[0]: 'C', commodities.index[1]: 'S'}\n",
    "maturities = dataSettle.groupby(['maturity']).nunique()\n",
    "whole_year = maturities[date_col].max()\n",
    "\n",
    "features = []\n",
    "for c in comm:\n",
    "    for m in set(dataSettle[dataSettle.instrument == c]['maturity']):\n",
    "        features.append(comm[c]+\"-\"+m)\n",
    "num_features_orig = len(features)\n",
    "dates = sorted(set(dataSettle[date_col]))"
   ]
  },
  {
   "cell_type": "code",
   "execution_count": 3,
   "metadata": {
    "collapsed": false
   },
   "outputs": [],
   "source": [
    "#%%script false --no-raise-error\n",
    "# This cell can take a couple of minutes, do not re-run unless needed \\\n",
    "# by uncommenting the line above\n",
    "datesD = {}\n",
    "for d in dates:\n",
    "    datesD[d] = {}\n",
    "    dataSettle_d = dataSettle[dataSettle.date == d]\n",
    "    for c in set(dataSettle_d['instrument']):\n",
    "        dataSettle_dc = dataSettle_d.query(\"instrument == @c\")\n",
    "        for m in set(dataSettle_dc['maturity']):\n",
    "            datesD[d][comm[c]+\"-\"+m] = dataSettle_dc.query(\"maturity == @m\")['value'].iloc[0]"
   ]
  },
  {
   "cell_type": "code",
   "execution_count": 4,
   "metadata": {
    "collapsed": true
   },
   "outputs": [],
   "source": [
    "# This function arranges the dataset to be used for surpervised learning by shifting the \n",
    "# features values by the number of index steps given in lag_steps\n",
    "\n",
    "def sequential_to_supervised(data, lag_steps = 1, n_out = 1, dropnan = True, thresh = 0 \\\n",
    "                             , interpolate = True):\n",
    "    # Get the number of features in dataset\n",
    "    n_features = data.shape[1]\n",
    "    cols = list()\n",
    "    feature_names = list()\n",
    "    \n",
    "    for i in range(lag_steps, 0, -1):\n",
    "        cols.append(data.shift(i)) # This will be the shifted dataset\n",
    "        # Names of the shifted features\n",
    "        feature_names += [(str(data.columns[j])) + '_t-%d' % (i) for j in range(n_features)]\n",
    "\n",
    "    for i in range(0, n_out):\n",
    "        cols.append(data.shift(-i))\n",
    "        # Names of the shifted features\n",
    "        if i == 0:\n",
    "            feature_names += [(str(data.columns[j])) + '_t'  for j in range(n_features)]\n",
    "        else:\n",
    "            feature_names += [(str(data.columns[j])) + '_t+%d' % (i) for j in \\\n",
    "                              range(n_features)]\n",
    "\n",
    "    agg = pd.concat(cols, axis=1) \n",
    "    agg.columns = feature_names\n",
    "\n",
    "    if dropnan:\n",
    "        agg.dropna(axis=1, thresh = agg.shape[0]/thresh if thresh else None, inplace=True)\n",
    "    if interpolate:\n",
    "        agg.interpolate(method='polynomial', order=2, limit_direction='both' \\\n",
    "                        , fill_value=\"extrapolate\", inplace=True)\n",
    "\n",
    "    return agg"
   ]
  },
  {
   "cell_type": "code",
   "execution_count": 5,
   "metadata": {
    "collapsed": false
   },
   "outputs": [
    {
     "name": "stdout",
     "output_type": "stream",
     "text": [
      "The supervised_dataset has 70 features (after shifting, duplicating     and cleaning)\n",
      "The original dataset had 47 features\n"
     ]
    }
   ],
   "source": [
    "dataset = pd.DataFrame.from_dict(datesD, orient='index')\n",
    "dataset.index.name = date_col\n",
    "dataset = dataset.set_index(pd.DatetimeIndex(dataset.index))\n",
    "\n",
    "lag_steps = 1\n",
    "thresh = 2 # Drop features missing more than 50% of observations\n",
    "supervised_dataset = sequential_to_supervised(dataset, lag_steps, 1, True, thresh, True)\n",
    "num_features = supervised_dataset.shape[1]\n",
    "if (num_features != num_features_orig*2):\n",
    "    print(\"The supervised_dataset has %d features (after shifting, duplicating \\\n",
    "    and cleaning)\" % num_features)\n",
    "    print(\"The original dataset had %d features\" % num_features_orig)\n",
    "    \n",
    "#y_feature = \"C-N2022\" # The dataset column to be predicted\n",
    "y_feature = \"S-N2022\" # The dataset column to be predicted\n",
    "y_feature_t = y_feature+\"_t\"\n",
    "if (y_feature_t not in supervised_dataset.columns):\n",
    "    print(\"Error! The feature to predict ('%s') is not present in the supervised_dataset\" % \\\n",
    "          y_feature)\n",
    "\n",
    "# Move label column to the end of dataset\n",
    "cols_at_end = [y_feature_t]\n",
    "supervised_dataset = supervised_dataset[[c for c in supervised_dataset \\\n",
    "                                         if c not in cols_at_end] + \\\n",
    "                                        [c for c in cols_at_end if c in supervised_dataset]]"
   ]
  },
  {
   "cell_type": "code",
   "execution_count": 6,
   "metadata": {
    "collapsed": false
   },
   "outputs": [
    {
     "name": "stdout",
     "output_type": "stream",
     "text": [
      "(231, 36)\n"
     ]
    }
   ],
   "source": [
    "# Dropping the current timestep columns of features other than the one being predicted,\n",
    "# which will be the label or y.\n",
    "# Result: num_features/2 features with timestep -1 plus feature y\n",
    "half_features = int(num_features / 2)\n",
    "# Assuming the dropna dropped the same number of shifted and unshifted features\n",
    "supervised_dataset.drop(supervised_dataset.columns[ \\\n",
    "                   (half_features*lag_steps) : (half_features*lag_steps + half_features -1) \\\n",
    "                                                  ], axis=1, inplace=True)\n",
    "print(supervised_dataset.shape)\n",
    "\n",
    "scaler = MinMaxScaler(feature_range=(0, 1))\n",
    "# Scaling all values\n",
    "supervised_dataset_scaled = scaler.fit_transform(supervised_dataset)"
   ]
  },
  {
   "cell_type": "code",
   "execution_count": 7,
   "metadata": {
    "collapsed": false
   },
   "outputs": [],
   "source": [
    "train_fr = 0.8\n",
    "split = int(supervised_dataset_scaled.shape[0] * train_fr) # Splitting for traning and testing\n",
    "train = supervised_dataset_scaled[:split, :] # First train_fr rows := previous observations\n",
    "test = supervised_dataset_scaled[split:, :] # Last 1-train_fr rows := successive observations\n",
    "\n",
    "# The label column is separated out as \"y\"\n",
    "train_x, train_y = train[:, :-1], train[:, -1]\n",
    "test_x, test_y = test[:, :-1], test[:, -1]\n",
    "# Reshaping done for LSTM as it needs 3D input\n",
    "train_x_3D = train_x.reshape((train_x.shape[0], 1, train_x.shape[1]))\n",
    "test_x_3D = test_x.reshape((test_x.shape[0], 1, test_x.shape[1]))"
   ]
  },
  {
   "cell_type": "code",
   "execution_count": 16,
   "metadata": {
    "collapsed": false
   },
   "outputs": [
    {
     "data": {
      "image/png": "[encoded data removed]",
      "text/plain": [
       "<Figure size 432x288 with 1 Axes>"
      ]
     },
     "metadata": {
      "needs_background": "light"
     },
     "output_type": "display_data"
    }
   ],
   "source": [
    "# Defining the LSTM model to be fit\n",
    "model = Sequential()\n",
    "model.add(LSTM(85, input_shape=(train_x_3D.shape[1], train_x_3D.shape[2])))\n",
    "model.add(Dense(1))\n",
    "model.compile(loss='mae', optimizer='adam')\n",
    "\n",
    "if np.count_nonzero(np.isnan(train)):\n",
    "    print(\"Warning! %d NaN values present in training dataset\" % \\\n",
    "          np.count_nonzero(np.isnan(train)))\n",
    "if np.count_nonzero(np.isnan(test)):\n",
    "    print(\"Warning! %d NaN values present in test dataset\" % \\\n",
    "          np.count_nonzero(np.isnan(test)))\n",
    "\n",
    "# Fitting the model\n",
    "history = model.fit(train_x_3D, train_y, epochs=70, batch_size=175, \\\n",
    "                    validation_data=(test_x_3D, test_y), verbose=0, shuffle=False)\n",
    "# Plotting the training progression\n",
    "pyplot.plot(history.history['loss'], label='train')\n",
    "pyplot.plot(history.history['val_loss'], label='test')\n",
    "pyplot.legend()\n",
    "pyplot.show()"
   ]
  },
  {
   "cell_type": "code",
   "execution_count": 17,
   "metadata": {
    "collapsed": false
   },
   "outputs": [],
   "source": [
    "# Using the trained model to predict the label values in test dataset\n",
    "y_hat = model.predict(test_x_3D)\n",
    "\n",
    "# Reshaping back into 2D for inversing the scaling\n",
    "test_x = test_x_3D.reshape((test_x_3D.shape[0], test_x_3D.shape[2])) "
   ]
  },
  {
   "cell_type": "code",
   "execution_count": 18,
   "metadata": {
    "collapsed": false
   },
   "outputs": [
    {
     "name": "stdout",
     "output_type": "stream",
     "text": [
      "Test RMSE: 23.611\n"
     ]
    }
   ],
   "source": [
    "# Concatenating the predicted label column with Test data input features,\n",
    "# needed for inversing the scaling\n",
    "inv_y_hat = np.concatenate((test_x[:, 0:], y_hat), axis=1) \n",
    "inv_y_hat = scaler.inverse_transform(inv_y_hat) # Rescaling back\n",
    "# Extracting the rescaled predicted label column\n",
    "inv_y_hat = inv_y_hat[:, half_features*lag_steps]\n",
    "\n",
    "test_y = test_y.reshape((len(test_y), 1))\n",
    "# Re-join the test dataset for inversing the scaling\n",
    "inv_y = np.concatenate((test_x[:, 0:], test_y), axis=1)\n",
    "# Rescaling the actual label column values\n",
    "inv_y = scaler.inverse_transform(inv_y)\n",
    "# Extracting the rescaled actual label column\n",
    "inv_y = inv_y[:, half_features*lag_steps]\n",
    "\n",
    "# Calculating RMSE\n",
    "rmse = np.sqrt(mean_squared_error(inv_y, inv_y_hat))\n",
    "print('Test RMSE: %.3f' % rmse)"
   ]
  },
  {
   "cell_type": "code",
   "execution_count": 19,
   "metadata": {
    "collapsed": false
   },
   "outputs": [
    {
     "data": {
      "image/png": "[encoded data removed]",
      "text/plain": [
       "<Figure size 432x288 with 1 Axes>"
      ]
     },
     "metadata": {
      "needs_background": "light"
     },
     "output_type": "display_data"
    }
   ],
   "source": [
    "pyplot.plot(inv_y, label = y_feature+' Actual')\n",
    "pyplot.plot(inv_y_hat, label = y_feature+' Predicted')\n",
    "pyplot.legend()\n",
    "pyplot.show()"
   ]
  }
 ],
 "metadata": {
  "kernelspec": {
   "display_name": "Python 3",
   "language": "python",
   "name": "python3"
  },
  "language_info": {
   "codemirror_mode": {
    "name": "ipython",
    "version": 3
   },
   "file_extension": ".py",
   "mimetype": "text/x-python",
   "name": "python",
   "nbconvert_exporter": "python",
   "pygments_lexer": "ipython3",
   "version": "3.9.5"
  }
 },
 "nbformat": 4,
 "nbformat_minor": 2
}
